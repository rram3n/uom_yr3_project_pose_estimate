{
 "cells": [
  {
   "cell_type": "markdown",
   "metadata": {},
   "source": [
    "# Create Aruco board \n",
    "This creates a fancy aruco board with a hole in the middel to place your objects\n",
    "\n",
    "If you want to make a normal Charuco board - check our calibrate.py file"
   ]
  },
  {
   "cell_type": "code",
   "execution_count": 1,
   "metadata": {},
   "outputs": [],
   "source": [
    "import numpy as np\n",
    "import cv2\n",
    "from PIL import Image"
   ]
  },
  {
   "cell_type": "code",
   "execution_count": 2,
   "metadata": {},
   "outputs": [],
   "source": [
    "def create_board(marker_size = 0.03, space_between_markers=0.01, number_in_width = 10, number_to_clear = 0, top_offset = 0.02):\n",
    "\n",
    "    marker_count = 0\n",
    "    increment = marker_size+space_between_markers\n",
    "    clear_index = None\n",
    "\n",
    "    if number_to_clear != 0:\n",
    "        clear_index = number_to_clear\n",
    "        num_markers = number_in_width**2 - (number_in_width-2*number_to_clear)**2\n",
    "    else:\n",
    "        num_markers = number_in_width**2\n",
    "        \n",
    "    print(f\"Generarintg {num_markers} markers\")\n",
    "    aruco_arr = np.zeros((num_markers, 4, 3), dtype=np.float32)\n",
    "\n",
    "    for idx in range(number_in_width):\n",
    "        for idy in range(number_in_width):\n",
    "\n",
    "            if clear_index is not None:\n",
    "                if (idx < clear_index or idx >= number_in_width-clear_index) or (idy < clear_index or idy >= number_in_width - clear_index):\n",
    "                    aruco_arr[marker_count] = np.array([[increment*idx+top_offset, increment*idy+top_offset, 0], # top left\n",
    "                                                    [increment*idx+top_offset + marker_size, increment*idy+top_offset, 0], # top right\n",
    "                                                    [increment*idx + marker_size+top_offset, increment*idy + top_offset+ marker_size, 0], # bottom right\n",
    "                                                      [increment*idx+top_offset, increment*idy+top_offset + marker_size, 0]] #bottom left\n",
    "                                                )\n",
    "                    marker_count +=1\n",
    "            else:    \n",
    "                aruco_arr[marker_count] = np.array([[increment*idx+top_offset, increment*idy+top_offset, 0], # top left\n",
    "                                                    [increment*idx+top_offset + marker_size, increment*idy+top_offset, 0], # top right\n",
    "                                                    [increment*idx + marker_size+top_offset, increment*idy + top_offset+ marker_size, 0], # bottom right\n",
    "                                                      [increment*idx+top_offset, increment*idy+top_offset + marker_size, 0]] #bottom left\n",
    "                                                )\n",
    "                marker_count+=1\n",
    "    return aruco_arr, marker_count"
   ]
  },
  {
   "cell_type": "code",
   "execution_count": 6,
   "metadata": {},
   "outputs": [
    {
     "name": "stdout",
     "output_type": "stream",
     "text": [
      "Generarintg 64 markers\n"
     ]
    }
   ],
   "source": [
    "boardpts, num = create_board(marker_size = 0.04, number_in_width=10, number_to_clear=2, space_between_markers=0.01, top_offset = 0.01)"
   ]
  },
  {
   "cell_type": "code",
   "execution_count": 7,
   "metadata": {},
   "outputs": [],
   "source": [
    "aarucoDict = cv2.aruco.getPredefinedDictionary(cv2.aruco.DICT_6X6_250)\n",
    "custom_board = cv2.aruco.Board(boardpts, aarucoDict, np.arange(num))"
   ]
  },
  {
   "cell_type": "code",
   "execution_count": 8,
   "metadata": {},
   "outputs": [],
   "source": [
    "img = custom_board.generateImage(outSize=(2560, 2560), marginSize=10, borderBits=1)\n",
    "im_pil = Image.fromarray(img)\n",
    "im_pil.save(r'test.pdf', dpi = (300,300))"
   ]
  },
  {
   "cell_type": "code",
   "execution_count": null,
   "metadata": {},
   "outputs": [],
   "source": []
  }
 ],
 "metadata": {
  "kernelspec": {
   "display_name": "py39env",
   "language": "python",
   "name": "python3"
  },
  "language_info": {
   "codemirror_mode": {
    "name": "ipython",
    "version": 3
   },
   "file_extension": ".py",
   "mimetype": "text/x-python",
   "name": "python",
   "nbconvert_exporter": "python",
   "pygments_lexer": "ipython3",
   "version": "3.10.11"
  }
 },
 "nbformat": 4,
 "nbformat_minor": 2
}
