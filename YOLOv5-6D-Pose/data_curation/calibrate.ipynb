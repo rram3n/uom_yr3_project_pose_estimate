{
 "cells": [
  {
   "cell_type": "code",
   "execution_count": null,
   "metadata": {},
   "outputs": [],
   "source": [
    "import numpy as np\n",
    "import cv2 as cv\n",
    "import glob\n",
    "import os\n",
    "import cv2.aruco as Aruco\n",
    "import json"
   ]
  },
  {
   "cell_type": "markdown",
   "metadata": {},
   "source": [
    "## Set path to images/video captured of your charuco board"
   ]
  },
  {
   "cell_type": "code",
   "execution_count": null,
   "metadata": {},
   "outputs": [],
   "source": [
    "data_path = r\"example_path/to/data/videos.mp4\""
   ]
  },
  {
   "cell_type": "code",
   "execution_count": null,
   "metadata": {},
   "outputs": [],
   "source": [
    "# Charuco board parameters\n",
    "aruco_dict = Aruco.getPredefinedDictionary(Aruco.DICT_6X6_50) # Feel free to change this to other aruco markers but keep consistent throughout the project\n",
    "board = Aruco.CharucoBoard((8, 5), 0.5, 0.3, aruco_dict) # Feel free to change this to other aruco markers but keep consistent throughout the project"
   ]
  },
  {
   "cell_type": "code",
   "execution_count": null,
   "metadata": {},
   "outputs": [],
   "source": [
    "# termination criteria for refining the detected corners\n",
    "criteria = (cv.TERM_CRITERIA_EPS + cv.TERM_CRITERIA_MAX_ITER, 30, 0.001)"
   ]
  },
  {
   "cell_type": "markdown",
   "metadata": {},
   "source": [
    "## Steps to calibrate the camera\n",
    "1. Capture images of the charuco board from different angles and distances, make sure to also cupture markers in the corners and sides of your camera - this is typically where most of the distortion occurs\n",
    "2. Detect the charuco board corners and refine them\n",
    "3. Store the detected corners and the corresponding object points\n",
    "4. Draw the corners for visualization"
   ]
  },
  {
   "cell_type": "code",
   "execution_count": null,
   "metadata": {},
   "outputs": [],
   "source": [
    "allCorners = []\n",
    "allIds = []\n",
    "decimator = 0\n",
    "\n",
    "cap = cv.VideoCapture(data_path)\n",
    "while(cap.isOpened()):\n",
    "\n",
    "    ret, img = cap.read()\n",
    "    if not ret:\n",
    "        break\n",
    "\n",
    "    # my video is 30 fps, only need 1/30 of the frames\n",
    "    if decimator%30 == 0:\n",
    "        # print(decimator)\n",
    "        gray = cv.cvtColor(img, cv.COLOR_BGR2GRAY)\n",
    "        res = cv.aruco.detectMarkers(gray, aruco_dict)\n",
    "        # Find the chess board corners\n",
    "        if len(res[0])>0:\n",
    "            \n",
    "            res2 = cv.aruco.interpolateCornersCharuco(res[0],res[1], gray, board)\n",
    "\n",
    "            if res2[1] is not None and res2[2] is not None and len(res2[1])>3:\n",
    "                corners = cv.cornerSubPix(gray, res2[1], (11,11), (-1,-1), criteria)\n",
    "                allCorners.append(corners)\n",
    "                allIds.append(res2[2])\n",
    "\n",
    "            cv.aruco.drawDetectedMarkers(img,res[0],res[1])\n",
    "            cv.imshow('img', img)\n",
    "        cv.waitKey(500)\n",
    "    \n",
    "    decimator+=1\n",
    "cv.destroyAllWindows()"
   ]
  },
  {
   "cell_type": "code",
   "execution_count": null,
   "metadata": {},
   "outputs": [],
   "source": [
    "# Use detected corners to compute calibration params\n",
    "cal = cv.aruco.calibrateCameraCharuco(allCorners,allIds,board,gray.shape[::-1],None,None)"
   ]
  },
  {
   "cell_type": "code",
   "execution_count": null,
   "metadata": {},
   "outputs": [],
   "source": [
    "ret, mtx, dist, rvecs, tvecs = cal # mtx is the camera matrix, dist is the distortion coefficients"
   ]
  },
  {
   "cell_type": "code",
   "execution_count": null,
   "metadata": {},
   "outputs": [],
   "source": [
    "camera_dictionary = {'distortion': dist[0].tolist(), \"intrinsic\": mtx.tolist()} # convert to list so that it can be saved as json"
   ]
  },
  {
   "cell_type": "code",
   "execution_count": null,
   "metadata": {},
   "outputs": [],
   "source": [
    "# Save everything for later\n",
    "with open('camera_params.json', 'w') as outfile:\n",
    "    json.dump(camera_dictionary, outfile)"
   ]
  },
  {
   "cell_type": "code",
   "execution_count": null,
   "metadata": {},
   "outputs": [],
   "source": [
    "# test if intrinsics can be used to undistort image\n",
    "img = cv.imread(r'example/path/to/image.jpg')\n",
    "h,  w = img.shape[:2]\n",
    "newcameramtx, roi = cv.getOptimalNewCameraMatrix(mtx, dist, (w,h), 1, (w,h))\n",
    "\n",
    "# undistort\n",
    "dst = cv.undistort(img, mtx, dist, None, newcameramtx)\n",
    "# crop the image\n",
    "x, y, w, h = roi\n",
    "dst = dst[y:y+h, x:x+w]\n",
    "cv.imwrite('calibresult.png', dst)"
   ]
  }
 ],
 "metadata": {
  "interpreter": {
   "hash": "1c036c46a179eda6c3a780b68e0f67e8d768baa063efc64682463263c37f6e7a"
  },
  "kernelspec": {
   "display_name": "Python 3.8.0 64-bit ('analysis38_env': venv)",
   "language": "python",
   "name": "python3"
  },
  "language_info": {
   "codemirror_mode": {
    "name": "ipython",
    "version": 3
   },
   "file_extension": ".py",
   "mimetype": "text/x-python",
   "name": "python",
   "nbconvert_exporter": "python",
   "pygments_lexer": "ipython3",
   "version": "3.10.11"
  },
  "orig_nbformat": 4
 },
 "nbformat": 4,
 "nbformat_minor": 2
}
